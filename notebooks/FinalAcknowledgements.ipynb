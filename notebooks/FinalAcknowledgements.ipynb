{
 "cells": [
  {
   "cell_type": "code",
   "execution_count": 16,
   "id": "df59c156",
   "metadata": {},
   "outputs": [],
   "source": [
    "import pandas as pd\n",
    "\n",
    "locations = [[\"USA\", \"United Kingdom\", \"South Africa\", \"South Korea\"], \n",
    "             ['Australia', 'Brazil', 'Canada', 'China', 'France', 'Germany', 'Japan',\n",
    "              'New Zealand', 'Russia', 'Singapore', 'South Korea', 'Sweden', 'Thailand', 'USA', \n",
    "              'United Kingdom', 'Ireland', 'Spain', 'Taiwan']]\n",
    "date_ranges = [[\"2021-01-01\", \"2022-11-01\"],\n",
    "    [\"2023-03-01\", \"2024-06-01\"]]"
   ]
  },
  {
   "cell_type": "code",
   "execution_count": 17,
   "id": "4d254cd0",
   "metadata": {},
   "outputs": [],
   "source": [
    "raw_metadata_reader = pd.read_csv(\n",
    "    \"../data/metadata.tsv.gz\", \n",
    "    sep=\"\\t\",\n",
    "    usecols=(\n",
    "        \"strain\",\n",
    "        \"date\",\n",
    "        \"date_submitted\",\n",
    "        \"country\",\n",
    "        \"division\",\n",
    "        \"Nextstrain_clade\",\n",
    "        \"authors\",\n",
    "        \"genbank_accession\",\n",
    "        \"gisaid_epi_isl\",\n",
    "        \"originating_lab\",\n",
    "        \"submitting_lab\"\n",
    "        ),\n",
    "    dtype={\n",
    "        \"country\": \"category\",\n",
    "        \"division\": \"category\",\n",
    "        \"Nextstrain_clade\": \"category\",\n",
    "        },\n",
    "    chunksize=100000)"
   ]
  },
  {
   "cell_type": "code",
   "execution_count": 18,
   "id": "a6ebcb91",
   "metadata": {},
   "outputs": [],
   "source": [
    "def clean_metadata(metadata, dates, locations):\n",
    "    start_date, end_date = dates\n",
    "    # Filter to countries\n",
    "    metadata = metadata[metadata[\"country\"].isin(locations)]\n",
    "    \n",
    "    # Remove ambigious dates\n",
    "    unambiguous_dates = (metadata[\"date\"] != \"?\") & (metadata[\"date\"].str.count(\"-\") == 2)\n",
    "    unambiguous_dates = unambiguous_dates & ~(metadata[\"date\"].str.contains(\"X\", na=True))\n",
    "    metadata = metadata[unambiguous_dates].copy()\n",
    "    \n",
    "    # Filter to date range\n",
    "    metadata[\"date\"] = pd.to_datetime(metadata[\"date\"])\n",
    "    metadata[\"date_submitted\"] = pd.to_datetime(metadata[\"date_submitted\"])\n",
    "\n",
    "    date_since_start_date = (metadata[\"date\"] >= start_date)\n",
    "    date_before_end_date = (metadata[\"date\"] <= end_date)\n",
    "    metadata = metadata[(date_since_start_date) & (date_before_end_date)].copy()\n",
    "        \n",
    "    # Filter records without NS clade\n",
    "    metadata = metadata[~pd.isnull(metadata[\"Nextstrain_clade\"])].copy()\n",
    "    \n",
    "    # Remove airport strain\n",
    "    metadata = metadata[~(metadata[\"strain\"].str.startswith(\"Japan/IC-\"))]\n",
    "    return metadata"
   ]
  },
  {
   "cell_type": "code",
   "execution_count": 19,
   "id": "275e7757",
   "metadata": {},
   "outputs": [],
   "source": [
    "def clean_chunk(chunk):\n",
    "    cleaned_chunks = []\n",
    "    for dates, locs in zip(date_ranges, locations):\n",
    "        cleaned_chunks.append(\n",
    "            clean_metadata(chunk.copy(), dates, locs)\n",
    "        )\n",
    "    return pd.concat(cleaned_chunks).drop_duplicates()\n",
    "\n",
    "metadata_chunks = [clean_chunk(chunk) for chunk in raw_metadata_reader]"
   ]
  },
  {
   "cell_type": "code",
   "execution_count": 20,
   "id": "b8a85c13",
   "metadata": {},
   "outputs": [],
   "source": [
    "metadata = pd.concat(metadata_chunks, ignore_index=True)"
   ]
  },
  {
   "cell_type": "code",
   "execution_count": 21,
   "id": "40eb9890",
   "metadata": {},
   "outputs": [
    {
     "data": {
      "text/plain": [
       "(7989725, 11)"
      ]
     },
     "execution_count": 21,
     "metadata": {},
     "output_type": "execute_result"
    }
   ],
   "source": [
    "metadata.shape"
   ]
  },
  {
   "cell_type": "code",
   "execution_count": 23,
   "id": "2c007535",
   "metadata": {},
   "outputs": [],
   "source": [
    "acknowledgment_cols = [\"strain\", \"gisaid_epi_isl\", \"genbank_accession\", \"authors\", \"originating_lab\", \"submitting_lab\"]\n",
    "acknowledgements = metadata[acknowledgment_cols]\n",
    "acknowledgements.to_csv(\"../data/final_acknowledgements_gisaid.tsv.xz\", sep=\"\\t\", compression='xz', index=False)"
   ]
  }
 ],
 "metadata": {
  "kernelspec": {
   "display_name": "Python 3 (ipykernel)",
   "language": "python",
   "name": "python3"
  },
  "language_info": {
   "codemirror_mode": {
    "name": "ipython",
    "version": 3
   },
   "file_extension": ".py",
   "mimetype": "text/x-python",
   "name": "python",
   "nbconvert_exporter": "python",
   "pygments_lexer": "ipython3",
   "version": "3.11.7"
  }
 },
 "nbformat": 4,
 "nbformat_minor": 5
}
