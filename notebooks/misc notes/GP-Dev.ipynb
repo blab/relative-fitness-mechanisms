{
 "cells": [
  {
   "cell_type": "code",
   "execution_count": 1,
   "id": "53653442",
   "metadata": {},
   "outputs": [
    {
     "ename": "ModuleNotFoundError",
     "evalue": "No module named 'relative_fitness_mechanisms'",
     "output_type": "error",
     "traceback": [
      "\u001b[0;31m---------------------------------------------------------------------------\u001b[0m",
      "\u001b[0;31mModuleNotFoundError\u001b[0m                       Traceback (most recent call last)",
      "Cell \u001b[0;32mIn[1], line 4\u001b[0m\n\u001b[1;32m      2\u001b[0m sys\u001b[38;5;241m.\u001b[39mpath\u001b[38;5;241m.\u001b[39mappend( \u001b[38;5;124m'\u001b[39m\u001b[38;5;124m../relative_fitness_mechanisms/\u001b[39m\u001b[38;5;124m'\u001b[39m )\n\u001b[1;32m      3\u001b[0m \u001b[38;5;28;01mimport\u001b[39;00m \u001b[38;5;21;01mplot_utils\u001b[39;00m\n\u001b[0;32m----> 4\u001b[0m \u001b[38;5;28;01mfrom\u001b[39;00m \u001b[38;5;21;01mrelative_fitness_mechanisms\u001b[39;00m \u001b[38;5;28;01mimport\u001b[39;00m RelativeFitnessGP, SquaredExpCov\n",
      "\u001b[0;31mModuleNotFoundError\u001b[0m: No module named 'relative_fitness_mechanisms'"
     ]
    }
   ],
   "source": [
    "import sys\n",
    "sys.path.append( '../relative_fitness_mechanisms/' )\n",
    "import plot_utils\n",
    "from relative_fitness_mechanisms import RelativeFitnessGP, SquaredExpCov"
   ]
  },
  {
   "cell_type": "code",
   "execution_count": null,
   "id": "973cb0fd",
   "metadata": {},
   "outputs": [],
   "source": [
    "import jax\n",
    "from jax import jit, lax\n",
    "from functools import partial\n",
    "import jax.numpy as jnp\n",
    "import numpy as np\n",
    "import pandas as pd\n",
    "import matplotlib.pyplot as plt\n",
    "import evofr as ef"
   ]
  },
  {
   "cell_type": "code",
   "execution_count": null,
   "id": "2fc8b5e8",
   "metadata": {},
   "outputs": [],
   "source": [
    "raw_seq = pd.read_csv(\"../../evofr/test/testing_data/mlr-variant-counts.tsv\", sep=\"\\t\")\n",
    "raw_seq = raw_seq[raw_seq.location == \"City0\"]\n",
    "data = ef.VariantFrequencies(raw_seq, pivot=\"C\")"
   ]
  },
  {
   "cell_type": "code",
   "execution_count": null,
   "id": "8948a683",
   "metadata": {},
   "outputs": [],
   "source": [
    "from evofr.plotting import FrequencyPlot, GrowthAdvantagePlot, TimeVaryingPlot, PatchLegend\n",
    "\n",
    "freq_plot = FrequencyPlot(data=data).plot(posterior=False);\n",
    "PatchLegend(color_map=freq_plot.color_map).add_legend(ax=freq_plot.ax);"
   ]
  },
  {
   "cell_type": "code",
   "execution_count": null,
   "id": "03c7b99d",
   "metadata": {},
   "outputs": [],
   "source": [
    "from relative_fitness_gp import SquaredExpCov, RelativeFitnessGP"
   ]
  },
  {
   "cell_type": "code",
   "execution_count": null,
   "id": "a241a6f2",
   "metadata": {},
   "outputs": [],
   "source": [
    "kernel = SquaredExpCov()\n",
    "\n",
    "model = RelativeFitnessGP(SquaredExpCov(alpha=0.1, rho=90)) # Do I need to add intercepts?\n",
    "inference_method = ef.InferNUTS(num_samples=500, num_warmup=500)\n",
    "#inference_method = ef.InferMAP(lr=4e-4, iters=50_000)\n",
    "\n",
    "posterior = inference_method.fit(model, data=data)"
   ]
  },
  {
   "cell_type": "code",
   "execution_count": null,
   "id": "b5a0f1f1",
   "metadata": {},
   "outputs": [],
   "source": [
    "freq_plot = FrequencyPlot(posterior).plot();"
   ]
  },
  {
   "cell_type": "code",
   "execution_count": null,
   "id": "b658f603",
   "metadata": {},
   "outputs": [],
   "source": [
    "import jax.numpy as jnp\n",
    "from tinygp import kernels, GaussianProcess\n",
    "from jax.nn import softmax\n",
    "from jax.scipy.special import logit\n",
    "\n",
    "def forecast(model, samples, forecast_L):\n",
    "        # Create time points to forecast\n",
    "        N_samples, N_time, N_variant = samples[\"delta\"].shape\n",
    "        ts = jnp.arange(N_time)\n",
    "        pred_ts = np.arange(1, forecast_L+1) + N_time\n",
    "\n",
    "        # Define GP\n",
    "        # Need to condition on samples though right?\n",
    "        gp = GaussianProcess(model.gp.model_numpyro(), ts, diag=1e-6)\n",
    "\n",
    "        # Forecast relative fitness\n",
    "        def _condition_sample(fitness, xs, key):\n",
    "            gp_cond = gp.condition(fitness, xs)\n",
    "            return gp_cond.gp.sample(key)\n",
    "\n",
    "        ## Map over sample and variant\n",
    "        condition_sample = jax.vmap(\n",
    "            jax.vmap(_condition_sample, in_axes=(1, None, None), out_axes=1),\n",
    "            in_axes=(0, None, 0),\n",
    "            out_axes=0,\n",
    "        )\n",
    "\n",
    "        keys = jax.random.PRNGKey(1)\n",
    "        keys = jax.random.split(keys, N_samples)\n",
    "        samples[\"delta_forecast\"] = condition_sample(samples[\"delta\"], pred_ts, keys)\n",
    "        \n",
    "        # Forecast frequency\n",
    "        def _forecast_freq(fitness, frequency):\n",
    "            init_freq = jnp.log(frequency[-1, :]) # Last known frequency\n",
    "            _fitness = jnp.concatenate((fitness, jnp.zeros((forecast_L, 1))), axis=-1)\n",
    "            cum_fitness = jnp.cumsum(_fitness.at[0,:].set(0), axis=0)\n",
    "            return softmax(cum_fitness + init_freq, axis=-1)\n",
    "            \n",
    "        vmap_forecast_freq = jax.vmap(_forecast_freq, in_axes=(0,0), out_axes=0)\n",
    "        samples[\"freq_forecast\"] = vmap_forecast_freq(samples[\"delta_forecast\"], samples[\"freq\"])\n",
    "        return samples"
   ]
  },
  {
   "cell_type": "code",
   "execution_count": null,
   "id": "8846320f",
   "metadata": {},
   "outputs": [],
   "source": [
    "posterior.samples = forecast(model, posterior.samples, 30)"
   ]
  },
  {
   "cell_type": "code",
   "execution_count": null,
   "id": "b9330740",
   "metadata": {},
   "outputs": [],
   "source": [
    "freq_plot = FrequencyPlot(posterior).plot(forecast=True);"
   ]
  },
  {
   "cell_type": "code",
   "execution_count": null,
   "id": "9622187f",
   "metadata": {},
   "outputs": [],
   "source": [
    "delta_plot = TimeVaryingPlot(posterior=posterior, site=\"delta\").plot()\n",
    "delta_plot.ax.set_ylabel(\"Relative Fitness\")"
   ]
  },
  {
   "cell_type": "code",
   "execution_count": null,
   "id": "e3e6082e",
   "metadata": {},
   "outputs": [],
   "source": [
    "delta_plot = TimeVaryingPlot(posterior=posterior, site=\"delta_forecast\").plot()\n",
    "delta_plot.ax.set_ylabel(\"Relative Fitness\")"
   ]
  },
  {
   "cell_type": "code",
   "execution_count": null,
   "id": "0b228847",
   "metadata": {},
   "outputs": [],
   "source": [
    "# How do I deal with nans here?"
   ]
  },
  {
   "cell_type": "code",
   "execution_count": null,
   "id": "f2cbee0c",
   "metadata": {},
   "outputs": [],
   "source": [
    "# How do I want this to be used?\n",
    "\n",
    "# Basically, if you specify a kernel you can easily estimate the relative fitnesses and plot forecasts with uncertainty\n",
    "# The difficulties are specifying this diag?\n",
    "# I wonder if I'm better off reimplementing a lot of this myself. "
   ]
  }
 ],
 "metadata": {
  "kernelspec": {
   "display_name": "Python 3 (ipykernel)",
   "language": "python",
   "name": "python3"
  },
  "language_info": {
   "codemirror_mode": {
    "name": "ipython",
    "version": 3
   },
   "file_extension": ".py",
   "mimetype": "text/x-python",
   "name": "python",
   "nbconvert_exporter": "python",
   "pygments_lexer": "ipython3",
   "version": "3.11.7"
  }
 },
 "nbformat": 4,
 "nbformat_minor": 5
}
