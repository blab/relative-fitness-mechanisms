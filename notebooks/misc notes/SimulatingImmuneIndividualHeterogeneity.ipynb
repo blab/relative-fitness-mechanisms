{
 "cells": [
  {
   "cell_type": "code",
   "execution_count": 5,
   "id": "4b78dfbb",
   "metadata": {},
   "outputs": [],
   "source": [
    "import numpy as np\n",
    "import matplotlib.pyplot as plt"
   ]
  },
  {
   "cell_type": "code",
   "execution_count": 6,
   "id": "07624c77",
   "metadata": {},
   "outputs": [],
   "source": [
    "# For differing levels of immune heterogeneity, we want to see how this effects overall population level selection\n",
    "\n",
    "# Step 1: Simulate individual level escape scores\n",
    "# A: This can be a simple additive site model\n",
    "# B: This can be a polyclonal model where we explicitly pick epitope sites\n",
    "\n",
    "# Step 2: Aggregate escape scores\n",
    "\n",
    "# Step 3: Pass IL escape scores to relative fitness for different variants\n",
    "\n",
    "# Step 4: Measure selective pressure over different levels of heterogeneity"
   ]
  },
  {
   "cell_type": "code",
   "execution_count": 76,
   "id": "c2756226",
   "metadata": {},
   "outputs": [
    {
     "data": {
      "text/plain": [
       "array([22, 56, 22])"
      ]
     },
     "execution_count": 76,
     "metadata": {},
     "output_type": "execute_result"
    }
   ],
   "source": [
    "# 1A: Simualting escape scores\n",
    "# Simulate sites to escape\n",
    "# Want to change variablility in sites for same mean escape\n",
    "\n",
    "# Basically, we want to change how infection with strain A affects the resulting immune landscape\n",
    "def simulate_immune_background(p):\n",
    "    return np.random.binomial(1, p)\n",
    "    \n",
    "# If multiple sites are escapable?\n",
    "def simulate_immune_backgrounds(n_samples, p_mean, alpha):\n",
    "    n_sites = len(p_mean)\n",
    "    site_probs = np.random.dirichlet(p_mean / alpha, size=n_samples)\n",
    "    sites = [np.random.multinomial(1, site_probs[r, :]) for r in range(n_samples)]\n",
    "    sites = np.stack(sites)\n",
    "    return sites.sum(axis=0)\n",
    "#    assert (p_var < p_mean  * ( 1 - p_mean)).all()\n",
    "#    nu = p_mean * (1 - p_mean) / p_var - 1\n",
    "#    alpha = nu * p_mean\n",
    "#    beta = nu * (1 - p_mean)\n",
    "#    p_locations = np.random.beta(alpha, beta, size=(n_samples, ))   \n",
    "#    return p_locations\n",
    "    \n",
    "\n",
    "    # We want bounded discrete distribution with changable variance.\n",
    "    # BetaBinomial?\n",
    "p_mean = np.array([0.2, 0.5, 0.3])\n",
    "simulate_immune_backgrounds(100, p_mean , 100)\n",
    "\n",
    "# How do we turn these individual things into escape scores ala DMS?\n",
    "# We want to be sure we're promoting heterogeneity in escapable sites\n",
    "# We then want to use these sites to esitmate a relative fitness on the individual level\n",
    "# How do we do this?"
   ]
  },
  {
   "cell_type": "code",
   "execution_count": null,
   "id": "ff986a01",
   "metadata": {},
   "outputs": [],
   "source": []
  },
  {
   "cell_type": "code",
   "execution_count": null,
   "id": "d1530ee1",
   "metadata": {},
   "outputs": [],
   "source": []
  }
 ],
 "metadata": {
  "kernelspec": {
   "display_name": "Python 3 (ipykernel)",
   "language": "python",
   "name": "python3"
  },
  "language_info": {
   "codemirror_mode": {
    "name": "ipython",
    "version": 3
   },
   "file_extension": ".py",
   "mimetype": "text/x-python",
   "name": "python",
   "nbconvert_exporter": "python",
   "pygments_lexer": "ipython3",
   "version": "3.11.4"
  }
 },
 "nbformat": 4,
 "nbformat_minor": 5
}
